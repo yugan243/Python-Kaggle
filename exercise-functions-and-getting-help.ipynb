{
 "cells": [
  {
   "cell_type": "markdown",
   "id": "36bcc008",
   "metadata": {
    "papermill": {
     "duration": 0.004684,
     "end_time": "2025-01-07T16:49:30.544180",
     "exception": false,
     "start_time": "2025-01-07T16:49:30.539496",
     "status": "completed"
    },
    "tags": []
   },
   "source": [
    "**This notebook is an exercise in the [Python](https://www.kaggle.com/learn/python) course.  You can reference the tutorial at [this link](https://www.kaggle.com/colinmorris/functions-and-getting-help).**\n",
    "\n",
    "---\n"
   ]
  },
  {
   "cell_type": "markdown",
   "id": "7128064c",
   "metadata": {
    "papermill": {
     "duration": 0.003579,
     "end_time": "2025-01-07T16:49:30.551904",
     "exception": false,
     "start_time": "2025-01-07T16:49:30.548325",
     "status": "completed"
    },
    "tags": []
   },
   "source": [
    "Functions are powerful. Try writing some yourself.\n",
    "\n",
    "As before, don't forget to run the setup code below before jumping into question 1."
   ]
  },
  {
   "cell_type": "code",
   "execution_count": 1,
   "id": "b88565c9",
   "metadata": {
    "_kg_hide-input": true,
    "_kg_hide-output": true,
    "execution": {
     "iopub.execute_input": "2025-01-07T16:49:30.561056Z",
     "iopub.status.busy": "2025-01-07T16:49:30.560623Z",
     "iopub.status.idle": "2025-01-07T16:49:31.015682Z",
     "shell.execute_reply": "2025-01-07T16:49:31.014471Z"
    },
    "papermill": {
     "duration": 0.462596,
     "end_time": "2025-01-07T16:49:31.018367",
     "exception": false,
     "start_time": "2025-01-07T16:49:30.555771",
     "status": "completed"
    },
    "tags": []
   },
   "outputs": [
    {
     "name": "stdout",
     "output_type": "stream",
     "text": [
      "Setup complete.\n"
     ]
    }
   ],
   "source": [
    "# SETUP. You don't need to worry for now about what this code does or how it works.\n",
    "from learntools.core import binder; binder.bind(globals())\n",
    "from learntools.python.ex2 import *\n",
    "print('Setup complete.')"
   ]
  },
  {
   "cell_type": "markdown",
   "id": "595ae65d",
   "metadata": {
    "papermill": {
     "duration": 0.005597,
     "end_time": "2025-01-07T16:49:31.033729",
     "exception": false,
     "start_time": "2025-01-07T16:49:31.028132",
     "status": "completed"
    },
    "tags": []
   },
   "source": [
    "# 1.\n",
    "\n",
    "Complete the body of the following function according to its docstring.\n",
    "\n",
    "HINT: Python has a built-in function `round`."
   ]
  },
  {
   "cell_type": "code",
   "execution_count": 2,
   "id": "0948f644",
   "metadata": {
    "execution": {
     "iopub.execute_input": "2025-01-07T16:49:31.047187Z",
     "iopub.status.busy": "2025-01-07T16:49:31.046366Z",
     "iopub.status.idle": "2025-01-07T16:49:31.058500Z",
     "shell.execute_reply": "2025-01-07T16:49:31.057473Z"
    },
    "papermill": {
     "duration": 0.020452,
     "end_time": "2025-01-07T16:49:31.060446",
     "exception": false,
     "start_time": "2025-01-07T16:49:31.039994",
     "status": "completed"
    },
    "tags": []
   },
   "outputs": [
    {
     "data": {
      "application/javascript": [
       "parent.postMessage({\"jupyterEvent\": \"custom.exercise_interaction\", \"data\": {\"outcomeType\": 1, \"valueTowardsCompletion\": 0.16666666666666666, \"interactionType\": 1, \"questionType\": 2, \"questionId\": \"1_RoundFunctionProblem\", \"learnToolsVersion\": \"0.3.4\", \"failureMessage\": \"\", \"exceptionClass\": \"\", \"trace\": \"\"}}, \"*\")"
      ],
      "text/plain": [
       "<IPython.core.display.Javascript object>"
      ]
     },
     "metadata": {},
     "output_type": "display_data"
    },
    {
     "data": {
      "text/markdown": [
       "<span style=\"color:#33cc33\">Correct</span>"
      ],
      "text/plain": [
       "Correct"
      ]
     },
     "metadata": {},
     "output_type": "display_data"
    }
   ],
   "source": [
    "def round_to_two_places(num):\n",
    "    \"\"\"Return the given number rounded to two decimal places. \n",
    "    \n",
    "    >>> round_to_two_places(3.14159)\n",
    "    3.14\n",
    "    \"\"\"\n",
    "    # Replace this body with your own code.\n",
    "    # (\"pass\" is a keyword that does literally nothing. We used it as a placeholder\n",
    "    # because after we begin a code block, Python requires at least one line of code)\n",
    "    return round(num, 2)\n",
    "\n",
    "# Check your answer\n",
    "q1.check()"
   ]
  },
  {
   "cell_type": "code",
   "execution_count": 3,
   "id": "a5dd8b5e",
   "metadata": {
    "execution": {
     "iopub.execute_input": "2025-01-07T16:49:31.070729Z",
     "iopub.status.busy": "2025-01-07T16:49:31.070312Z",
     "iopub.status.idle": "2025-01-07T16:49:31.078441Z",
     "shell.execute_reply": "2025-01-07T16:49:31.077235Z"
    },
    "papermill": {
     "duration": 0.015181,
     "end_time": "2025-01-07T16:49:31.080213",
     "exception": false,
     "start_time": "2025-01-07T16:49:31.065032",
     "status": "completed"
    },
    "tags": []
   },
   "outputs": [
    {
     "data": {
      "application/javascript": [
       "parent.postMessage({\"jupyterEvent\": \"custom.exercise_interaction\", \"data\": {\"interactionType\": 3, \"questionType\": 2, \"questionId\": \"1_RoundFunctionProblem\", \"learnToolsVersion\": \"0.3.4\", \"valueTowardsCompletion\": 0.0, \"failureMessage\": \"\", \"exceptionClass\": \"\", \"trace\": \"\", \"outcomeType\": 4}}, \"*\")"
      ],
      "text/plain": [
       "<IPython.core.display.Javascript object>"
      ]
     },
     "metadata": {},
     "output_type": "display_data"
    },
    {
     "data": {
      "text/markdown": [
       "<span style=\"color:#33cc99\">Solution:</span> \n",
       "```python\n",
       "return round(num, 2)\n",
       "```"
      ],
      "text/plain": [
       "Solution: \n",
       "```python\n",
       "return round(num, 2)\n",
       "```"
      ]
     },
     "metadata": {},
     "output_type": "display_data"
    }
   ],
   "source": [
    "# Uncomment the following for a hint\n",
    "#q1.hint()\n",
    "# Or uncomment the following to peek at the solution\n",
    "q1.solution()"
   ]
  },
  {
   "cell_type": "markdown",
   "id": "305f8d00",
   "metadata": {
    "papermill": {
     "duration": 0.004477,
     "end_time": "2025-01-07T16:49:31.089493",
     "exception": false,
     "start_time": "2025-01-07T16:49:31.085016",
     "status": "completed"
    },
    "tags": []
   },
   "source": [
    "# 2.\n",
    "The help for `round` says that `ndigits` (the second argument) may be negative.\n",
    "What do you think will happen when it is? Try some examples in the following cell."
   ]
  },
  {
   "cell_type": "code",
   "execution_count": 4,
   "id": "422baa7b",
   "metadata": {
    "execution": {
     "iopub.execute_input": "2025-01-07T16:49:31.100011Z",
     "iopub.status.busy": "2025-01-07T16:49:31.099550Z",
     "iopub.status.idle": "2025-01-07T16:49:31.105457Z",
     "shell.execute_reply": "2025-01-07T16:49:31.104411Z"
    },
    "papermill": {
     "duration": 0.013168,
     "end_time": "2025-01-07T16:49:31.107206",
     "exception": false,
     "start_time": "2025-01-07T16:49:31.094038",
     "status": "completed"
    },
    "tags": []
   },
   "outputs": [
    {
     "name": "stdout",
     "output_type": "stream",
     "text": [
      "334500\n"
     ]
    }
   ],
   "source": [
    "print(round(334535, -2))"
   ]
  },
  {
   "cell_type": "markdown",
   "id": "7c5451c4",
   "metadata": {
    "papermill": {
     "duration": 0.005187,
     "end_time": "2025-01-07T16:49:31.117191",
     "exception": false,
     "start_time": "2025-01-07T16:49:31.112004",
     "status": "completed"
    },
    "tags": []
   },
   "source": [
    "Can you think of a case where this would be useful?  Once you're ready, run the code cell below to see the answer and to receive credit for completing the problem."
   ]
  },
  {
   "cell_type": "code",
   "execution_count": 5,
   "id": "8933dabd",
   "metadata": {
    "execution": {
     "iopub.execute_input": "2025-01-07T16:49:31.135287Z",
     "iopub.status.busy": "2025-01-07T16:49:31.134745Z",
     "iopub.status.idle": "2025-01-07T16:49:31.143652Z",
     "shell.execute_reply": "2025-01-07T16:49:31.142614Z"
    },
    "papermill": {
     "duration": 0.020289,
     "end_time": "2025-01-07T16:49:31.145343",
     "exception": false,
     "start_time": "2025-01-07T16:49:31.125054",
     "status": "completed"
    },
    "tags": []
   },
   "outputs": [
    {
     "data": {
      "application/javascript": [
       "parent.postMessage({\"jupyterEvent\": \"custom.exercise_interaction\", \"data\": {\"interactionType\": 3, \"questionType\": 4, \"questionId\": \"2_RoundNdigitsProblem\", \"learnToolsVersion\": \"0.3.4\", \"valueTowardsCompletion\": 0.0, \"failureMessage\": \"\", \"exceptionClass\": \"\", \"trace\": \"\", \"outcomeType\": 4}}, \"*\")"
      ],
      "text/plain": [
       "<IPython.core.display.Javascript object>"
      ]
     },
     "metadata": {},
     "output_type": "display_data"
    },
    {
     "data": {
      "text/markdown": [
       "<span style=\"color:#33cc99\">Solution:</span> As you've seen, `ndigits=-1` rounds to the nearest 10, `ndigits=-2` rounds to the nearest 100 and so on. Where might this be useful? Suppose we're dealing with large numbers:\n",
       "\n",
       "> The area of Finland is 338,424 km²  \n",
       "> The area of Greenland is 2,166,086 km²\n",
       "\n",
       "We probably don't care whether it's really 338,424, or 338,425, or 338,177. All those digits of accuracy are just distracting. We can chop them off by calling `round()` with `ndigits=-3`:\n",
       "\n",
       "> The area of Finland is 338,000 km²  \n",
       "> The area of Greenland is 2,166,000 km²\n",
       "\n",
       "(We'll talk about how we would get the commas later when we talk about string formatting :))\n"
      ],
      "text/plain": [
       "Solution: As you've seen, `ndigits=-1` rounds to the nearest 10, `ndigits=-2` rounds to the nearest 100 and so on. Where might this be useful? Suppose we're dealing with large numbers:\n",
       "\n",
       "> The area of Finland is 338,424 km²  \n",
       "> The area of Greenland is 2,166,086 km²\n",
       "\n",
       "We probably don't care whether it's really 338,424, or 338,425, or 338,177. All those digits of accuracy are just distracting. We can chop them off by calling `round()` with `ndigits=-3`:\n",
       "\n",
       "> The area of Finland is 338,000 km²  \n",
       "> The area of Greenland is 2,166,000 km²\n",
       "\n",
       "(We'll talk about how we would get the commas later when we talk about string formatting :))"
      ]
     },
     "metadata": {},
     "output_type": "display_data"
    }
   ],
   "source": [
    "# Check your answer (Run this code cell to receive credit!)\n",
    "q2.solution()"
   ]
  },
  {
   "cell_type": "markdown",
   "id": "b41e0e5c",
   "metadata": {
    "papermill": {
     "duration": 0.008137,
     "end_time": "2025-01-07T16:49:31.160190",
     "exception": false,
     "start_time": "2025-01-07T16:49:31.152053",
     "status": "completed"
    },
    "tags": []
   },
   "source": [
    "# 3.\n",
    "\n",
    "In the previous exercise, the candy-sharing friends Alice, Bob and Carol tried to split candies evenly. For the sake of their friendship, any candies left over would be smashed. For example, if they collectively bring home 91 candies, they'll take 30 each and smash 1.\n",
    "\n",
    "Below is a simple function that will calculate the number of candies to smash for *any* number of total candies.\n",
    "\n",
    "Modify it so that it optionally takes a second argument representing the number of friends the candies are being split between. If no second argument is provided, it should assume 3 friends, as before.\n",
    "\n",
    "Update the docstring to reflect this new behaviour."
   ]
  },
  {
   "cell_type": "code",
   "execution_count": 6,
   "id": "87350f44",
   "metadata": {
    "execution": {
     "iopub.execute_input": "2025-01-07T16:49:31.178453Z",
     "iopub.status.busy": "2025-01-07T16:49:31.178112Z",
     "iopub.status.idle": "2025-01-07T16:49:31.185977Z",
     "shell.execute_reply": "2025-01-07T16:49:31.184945Z"
    },
    "papermill": {
     "duration": 0.018978,
     "end_time": "2025-01-07T16:49:31.187666",
     "exception": false,
     "start_time": "2025-01-07T16:49:31.168688",
     "status": "completed"
    },
    "tags": []
   },
   "outputs": [
    {
     "data": {
      "application/javascript": [
       "parent.postMessage({\"jupyterEvent\": \"custom.exercise_interaction\", \"data\": {\"outcomeType\": 1, \"valueTowardsCompletion\": 0.16666666666666666, \"interactionType\": 1, \"questionType\": 2, \"questionId\": \"3_CandySmashingFunctionProblem\", \"learnToolsVersion\": \"0.3.4\", \"failureMessage\": \"\", \"exceptionClass\": \"\", \"trace\": \"\"}}, \"*\")"
      ],
      "text/plain": [
       "<IPython.core.display.Javascript object>"
      ]
     },
     "metadata": {},
     "output_type": "display_data"
    },
    {
     "data": {
      "text/markdown": [
       "<span style=\"color:#33cc33\">Correct</span>"
      ],
      "text/plain": [
       "Correct"
      ]
     },
     "metadata": {},
     "output_type": "display_data"
    }
   ],
   "source": [
    "def to_smash(total_candies, no_of_friends = 3):\n",
    "    \"\"\"Return the number of leftover candies that must be smashed after distributing\n",
    "    the given number of candies evenly between given number of friends.\n",
    "    \n",
    "    >>> to_smash(91)\n",
    "    1\n",
    "    \"\"\"\n",
    "    return total_candies % no_of_friends\n",
    "\n",
    "# Check your answer\n",
    "q3.check()"
   ]
  },
  {
   "cell_type": "code",
   "execution_count": 7,
   "id": "75818af7",
   "metadata": {
    "execution": {
     "iopub.execute_input": "2025-01-07T16:49:31.204572Z",
     "iopub.status.busy": "2025-01-07T16:49:31.204140Z",
     "iopub.status.idle": "2025-01-07T16:49:31.212121Z",
     "shell.execute_reply": "2025-01-07T16:49:31.210986Z"
    },
    "papermill": {
     "duration": 0.017034,
     "end_time": "2025-01-07T16:49:31.213767",
     "exception": false,
     "start_time": "2025-01-07T16:49:31.196733",
     "status": "completed"
    },
    "tags": []
   },
   "outputs": [
    {
     "data": {
      "application/javascript": [
       "parent.postMessage({\"jupyterEvent\": \"custom.exercise_interaction\", \"data\": {\"interactionType\": 2, \"questionType\": 2, \"questionId\": \"3_CandySmashingFunctionProblem\", \"learnToolsVersion\": \"0.3.4\", \"valueTowardsCompletion\": 0.0, \"failureMessage\": \"\", \"exceptionClass\": \"\", \"trace\": \"\", \"outcomeType\": 4}}, \"*\")"
      ],
      "text/plain": [
       "<IPython.core.display.Javascript object>"
      ]
     },
     "metadata": {},
     "output_type": "display_data"
    },
    {
     "data": {
      "text/markdown": [
       "<span style=\"color:#3366cc\">Hint:</span> Refer to the section of the last tutorial notebook where we talked about default arguments"
      ],
      "text/plain": [
       "Hint: Refer to the section of the last tutorial notebook where we talked about default arguments"
      ]
     },
     "metadata": {},
     "output_type": "display_data"
    }
   ],
   "source": [
    "q3.hint()"
   ]
  },
  {
   "cell_type": "code",
   "execution_count": 8,
   "id": "9043c2b2",
   "metadata": {
    "execution": {
     "iopub.execute_input": "2025-01-07T16:49:31.225565Z",
     "iopub.status.busy": "2025-01-07T16:49:31.225216Z",
     "iopub.status.idle": "2025-01-07T16:49:31.232690Z",
     "shell.execute_reply": "2025-01-07T16:49:31.231748Z"
    },
    "papermill": {
     "duration": 0.015559,
     "end_time": "2025-01-07T16:49:31.234574",
     "exception": false,
     "start_time": "2025-01-07T16:49:31.219015",
     "status": "completed"
    },
    "tags": []
   },
   "outputs": [
    {
     "data": {
      "application/javascript": [
       "parent.postMessage({\"jupyterEvent\": \"custom.exercise_interaction\", \"data\": {\"interactionType\": 3, \"questionType\": 2, \"questionId\": \"3_CandySmashingFunctionProblem\", \"learnToolsVersion\": \"0.3.4\", \"valueTowardsCompletion\": 0.0, \"failureMessage\": \"\", \"exceptionClass\": \"\", \"trace\": \"\", \"outcomeType\": 4}}, \"*\")"
      ],
      "text/plain": [
       "<IPython.core.display.Javascript object>"
      ]
     },
     "metadata": {},
     "output_type": "display_data"
    },
    {
     "data": {
      "text/markdown": [
       "<span style=\"color:#33cc99\">Solution:</span> \n",
       "```python\n",
       "def to_smash(total_candies, n_friends=3):\n",
       "    return total_candies % n_friends\n",
       "```"
      ],
      "text/plain": [
       "Solution: \n",
       "```python\n",
       "def to_smash(total_candies, n_friends=3):\n",
       "    return total_candies % n_friends\n",
       "```"
      ]
     },
     "metadata": {},
     "output_type": "display_data"
    }
   ],
   "source": [
    "q3.solution()"
   ]
  },
  {
   "cell_type": "markdown",
   "id": "60741ad7",
   "metadata": {
    "papermill": {
     "duration": 0.005049,
     "end_time": "2025-01-07T16:49:31.245306",
     "exception": false,
     "start_time": "2025-01-07T16:49:31.240257",
     "status": "completed"
    },
    "tags": []
   },
   "source": [
    "# 4. (Optional)\n",
    "\n",
    "It may not be fun, but reading and understanding error messages will be an important part of your Python career.\n",
    "\n",
    "Each code cell below contains some commented buggy code. For each cell...\n",
    "\n",
    "1. Read the code and predict what you think will happen when it's run.\n",
    "2. Then uncomment the code and run it to see what happens. (**Tip**: In the kernel editor, you can highlight several lines and press `ctrl`+`/` to toggle commenting.)\n",
    "3. Fix the code (so that it accomplishes its intended purpose without throwing an exception)\n",
    "\n",
    "<!-- TODO: should this be autochecked? Delta is probably pretty small. -->"
   ]
  },
  {
   "cell_type": "code",
   "execution_count": 9,
   "id": "c8bfb831",
   "metadata": {
    "execution": {
     "iopub.execute_input": "2025-01-07T16:49:31.257695Z",
     "iopub.status.busy": "2025-01-07T16:49:31.257265Z",
     "iopub.status.idle": "2025-01-07T16:49:31.263346Z",
     "shell.execute_reply": "2025-01-07T16:49:31.262341Z"
    },
    "papermill": {
     "duration": 0.014478,
     "end_time": "2025-01-07T16:49:31.265235",
     "exception": false,
     "start_time": "2025-01-07T16:49:31.250757",
     "status": "completed"
    },
    "tags": []
   },
   "outputs": [
    {
     "data": {
      "text/plain": [
       "10.0"
      ]
     },
     "execution_count": 9,
     "metadata": {},
     "output_type": "execute_result"
    }
   ],
   "source": [
    " round_to_two_places(9.9999)"
   ]
  },
  {
   "cell_type": "code",
   "execution_count": 10,
   "id": "0c3a122d",
   "metadata": {
    "execution": {
     "iopub.execute_input": "2025-01-07T16:49:31.282316Z",
     "iopub.status.busy": "2025-01-07T16:49:31.281892Z",
     "iopub.status.idle": "2025-01-07T16:49:31.287380Z",
     "shell.execute_reply": "2025-01-07T16:49:31.285845Z"
    },
    "papermill": {
     "duration": 0.014824,
     "end_time": "2025-01-07T16:49:31.289641",
     "exception": false,
     "start_time": "2025-01-07T16:49:31.274817",
     "status": "completed"
    },
    "tags": []
   },
   "outputs": [],
   "source": [
    "x = -10\n",
    "y = 5\n",
    "# Which of the two variables above has the smallest absolute value?\n",
    "smallest_abs = min(abs(x), abs(y))"
   ]
  },
  {
   "cell_type": "code",
   "execution_count": 11,
   "id": "f9f5cf54",
   "metadata": {
    "execution": {
     "iopub.execute_input": "2025-01-07T16:49:31.302294Z",
     "iopub.status.busy": "2025-01-07T16:49:31.301958Z",
     "iopub.status.idle": "2025-01-07T16:49:31.307111Z",
     "shell.execute_reply": "2025-01-07T16:49:31.305985Z"
    },
    "papermill": {
     "duration": 0.013185,
     "end_time": "2025-01-07T16:49:31.308731",
     "exception": false,
     "start_time": "2025-01-07T16:49:31.295546",
     "status": "completed"
    },
    "tags": []
   },
   "outputs": [
    {
     "name": "stdout",
     "output_type": "stream",
     "text": [
      "5\n"
     ]
    }
   ],
   "source": [
    "def f(x):\n",
    "    y = abs(x)\n",
    "    return y\n",
    "\n",
    "print(f(5))"
   ]
  },
  {
   "cell_type": "markdown",
   "id": "205a0d15",
   "metadata": {
    "papermill": {
     "duration": 0.005481,
     "end_time": "2025-01-07T16:49:31.319775",
     "exception": false,
     "start_time": "2025-01-07T16:49:31.314294",
     "status": "completed"
    },
    "tags": []
   },
   "source": [
    "# Keep Going\n",
    "\n",
    "Nice job with the code. Next up, you'll learn about *conditionals*, which you'll need to **[write interesting programs](https://www.kaggle.com/colinmorris/booleans-and-conditionals)**. "
   ]
  },
  {
   "cell_type": "markdown",
   "id": "24543cbf",
   "metadata": {
    "papermill": {
     "duration": 0.005015,
     "end_time": "2025-01-07T16:49:31.330105",
     "exception": false,
     "start_time": "2025-01-07T16:49:31.325090",
     "status": "completed"
    },
    "tags": []
   },
   "source": [
    "---\n",
    "\n",
    "\n",
    "\n",
    "\n",
    "*Have questions or comments? Visit the [course discussion forum](https://www.kaggle.com/learn/python/discussion) to chat with other learners.*"
   ]
  }
 ],
 "metadata": {
  "kaggle": {
   "accelerator": "none",
   "dataSources": [],
   "isGpuEnabled": false,
   "isInternetEnabled": false,
   "language": "python",
   "sourceType": "notebook"
  },
  "kernelspec": {
   "display_name": "Python 3",
   "language": "python",
   "name": "python3"
  },
  "language_info": {
   "codemirror_mode": {
    "name": "ipython",
    "version": 3
   },
   "file_extension": ".py",
   "mimetype": "text/x-python",
   "name": "python",
   "nbconvert_exporter": "python",
   "pygments_lexer": "ipython3",
   "version": "3.10.12"
  },
  "learntools_metadata": {
   "lesson_index": 1,
   "type": "exercise"
  },
  "papermill": {
   "default_parameters": {},
   "duration": 3.576397,
   "end_time": "2025-01-07T16:49:31.855796",
   "environment_variables": {},
   "exception": null,
   "input_path": "__notebook__.ipynb",
   "output_path": "__notebook__.ipynb",
   "parameters": {},
   "start_time": "2025-01-07T16:49:28.279399",
   "version": "2.6.0"
  }
 },
 "nbformat": 4,
 "nbformat_minor": 5
}

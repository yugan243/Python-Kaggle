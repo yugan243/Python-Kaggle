{
 "cells": [
  {
   "cell_type": "markdown",
   "id": "0ab48bd0",
   "metadata": {
    "papermill": {
     "duration": 0.006067,
     "end_time": "2025-01-07T14:14:16.752522",
     "exception": false,
     "start_time": "2025-01-07T14:14:16.746455",
     "status": "completed"
    },
    "tags": []
   },
   "source": [
    "**This notebook is an exercise in the [Python](https://www.kaggle.com/learn/python) course.  You can reference the tutorial at [this link](https://www.kaggle.com/colinmorris/hello-python).**\n",
    "\n",
    "---\n"
   ]
  },
  {
   "cell_type": "markdown",
   "id": "eb035686",
   "metadata": {
    "papermill": {
     "duration": 0.005374,
     "end_time": "2025-01-07T14:14:16.763529",
     "exception": false,
     "start_time": "2025-01-07T14:14:16.758155",
     "status": "completed"
    },
    "tags": []
   },
   "source": [
    "Welcome to your first set of Python coding problems.  If this is your first time using Kaggle Notebooks, welcome! \n",
    "\n",
    "Notebooks are composed of blocks (called \"cells\") of text and code. Each of these is editable, though you'll mainly be editing the code cells to answer some questions.\n",
    "\n",
    "To get started, try running the code cell below (by pressing the ► button, or clicking on the cell and pressing ctrl+enter on your keyboard)."
   ]
  },
  {
   "cell_type": "code",
   "execution_count": 1,
   "id": "c7b41ccf",
   "metadata": {
    "execution": {
     "iopub.execute_input": "2025-01-07T14:14:16.775307Z",
     "iopub.status.busy": "2025-01-07T14:14:16.774949Z",
     "iopub.status.idle": "2025-01-07T14:14:16.783586Z",
     "shell.execute_reply": "2025-01-07T14:14:16.782175Z"
    },
    "papermill": {
     "duration": 0.016738,
     "end_time": "2025-01-07T14:14:16.785468",
     "exception": false,
     "start_time": "2025-01-07T14:14:16.768730",
     "status": "completed"
    },
    "tags": []
   },
   "outputs": [
    {
     "name": "stdout",
     "output_type": "stream",
     "text": [
      "You've successfully run some Python code\n",
      "Congratulations!\n",
      "I'm starting learning Python\n"
     ]
    }
   ],
   "source": [
    "print(\"You've successfully run some Python code\")\n",
    "print(\"Congratulations!\")\n",
    "print(\"I'm starting learning Python\")"
   ]
  },
  {
   "cell_type": "markdown",
   "id": "8298a594",
   "metadata": {
    "papermill": {
     "duration": 0.004999,
     "end_time": "2025-01-07T14:14:16.796177",
     "exception": false,
     "start_time": "2025-01-07T14:14:16.791178",
     "status": "completed"
    },
    "tags": []
   },
   "source": [
    "Try adding another line of code in the cell above and re-running it. \n",
    "\n",
    "Now let's get a little fancier:  Add a new code cell by clicking on an existing code cell, hitting the escape key, and then hitting the `a` or `b` key.  The `a` key will add a cell above the current cell, and `b` adds a cell below.\n",
    "\n",
    "Great! Now you know how to use Notebooks.\n",
    "\n",
    "Each hands-on exercise starts by setting up our feedback and code checking mechanism. Run the code cell below to do that. Then you'll be ready to move on to question 0."
   ]
  },
  {
   "cell_type": "code",
   "execution_count": 2,
   "id": "e69c5b87",
   "metadata": {
    "_kg_hide-input": true,
    "_kg_hide-output": true,
    "execution": {
     "iopub.execute_input": "2025-01-07T14:14:16.808799Z",
     "iopub.status.busy": "2025-01-07T14:14:16.808364Z",
     "iopub.status.idle": "2025-01-07T14:14:17.231220Z",
     "shell.execute_reply": "2025-01-07T14:14:17.229977Z"
    },
    "papermill": {
     "duration": 0.431043,
     "end_time": "2025-01-07T14:14:17.232992",
     "exception": false,
     "start_time": "2025-01-07T14:14:16.801949",
     "status": "completed"
    },
    "tags": []
   },
   "outputs": [
    {
     "name": "stdout",
     "output_type": "stream",
     "text": [
      "Setup complete! You're ready to start question 0.\n"
     ]
    }
   ],
   "source": [
    "from learntools.core import binder; binder.bind(globals())\n",
    "from learntools.python.ex1 import *\n",
    "print(\"Setup complete! You're ready to start question 0.\")"
   ]
  },
  {
   "cell_type": "markdown",
   "id": "fc898d92",
   "metadata": {
    "papermill": {
     "duration": 0.005244,
     "end_time": "2025-01-07T14:14:17.243994",
     "exception": false,
     "start_time": "2025-01-07T14:14:17.238750",
     "status": "completed"
    },
    "tags": []
   },
   "source": [
    "# 0.\n",
    "\n",
    "*This is a silly question intended as an introduction to the format we use for hands-on exercises throughout all Kaggle courses.*\n",
    "\n",
    "**What is your favorite color? **\n",
    "\n",
    "To complete this question, create a variable called `color` in the cell below with an appropriate value. The function call `q0.check()` (which we've already provided in the cell below) will check your answer."
   ]
  },
  {
   "cell_type": "code",
   "execution_count": 3,
   "id": "f3f25277",
   "metadata": {
    "execution": {
     "iopub.execute_input": "2025-01-07T14:14:17.256169Z",
     "iopub.status.busy": "2025-01-07T14:14:17.255655Z",
     "iopub.status.idle": "2025-01-07T14:14:17.264236Z",
     "shell.execute_reply": "2025-01-07T14:14:17.263122Z"
    },
    "papermill": {
     "duration": 0.016669,
     "end_time": "2025-01-07T14:14:17.265997",
     "exception": false,
     "start_time": "2025-01-07T14:14:17.249328",
     "status": "completed"
    },
    "tags": []
   },
   "outputs": [
    {
     "data": {
      "application/javascript": [
       "parent.postMessage({\"jupyterEvent\": \"custom.exercise_interaction\", \"data\": {\"outcomeType\": 1, \"valueTowardsCompletion\": 0.25, \"interactionType\": 1, \"questionType\": 2, \"questionId\": \"0_ExerciseFormatTutorial\", \"learnToolsVersion\": \"0.3.4\", \"failureMessage\": \"\", \"exceptionClass\": \"\", \"trace\": \"\"}}, \"*\")"
      ],
      "text/plain": [
       "<IPython.core.display.Javascript object>"
      ]
     },
     "metadata": {},
     "output_type": "display_data"
    },
    {
     "data": {
      "text/markdown": [
       "<span style=\"color:#33cc33\">Correct:</span> What?! You got it right without needing a hint or anything? Drats. Well hey, you should still continue to the next step to get some practice asking for a hint and checking solutions. (Even though you obviously don't need any help here.)"
      ],
      "text/plain": [
       "Correct: What?! You got it right without needing a hint or anything? Drats. Well hey, you should still continue to the next step to get some practice asking for a hint and checking solutions. (Even though you obviously don't need any help here.)"
      ]
     },
     "metadata": {},
     "output_type": "display_data"
    }
   ],
   "source": [
    "# create a variable called color with an appropriate value on the line below\n",
    "# (Remember, strings in Python must be enclosed in 'single' or \"double\" quotes)\n",
    "color = \"blue\"\n",
    "\n",
    "# Check your answer\n",
    "q0.check()"
   ]
  },
  {
   "cell_type": "markdown",
   "id": "3d04a1fb",
   "metadata": {
    "papermill": {
     "duration": 0.005544,
     "end_time": "2025-01-07T14:14:17.277331",
     "exception": false,
     "start_time": "2025-01-07T14:14:17.271787",
     "status": "completed"
    },
    "tags": []
   },
   "source": [
    "Didn't get the right answer? How do you not even know your own favorite color?!\n",
    "\n",
    "Delete the `#` in the line below to make one of the lines run. You can choose between getting a hint or the full answer by choosing which line to remove the `#` from. \n",
    "\n",
    "Removing the `#` is called uncommenting, because it changes that line from a \"comment\" which Python doesn't run to code, which Python does run."
   ]
  },
  {
   "cell_type": "code",
   "execution_count": 4,
   "id": "c07df696",
   "metadata": {
    "execution": {
     "iopub.execute_input": "2025-01-07T14:14:17.290282Z",
     "iopub.status.busy": "2025-01-07T14:14:17.289895Z",
     "iopub.status.idle": "2025-01-07T14:14:17.293473Z",
     "shell.execute_reply": "2025-01-07T14:14:17.292616Z"
    },
    "papermill": {
     "duration": 0.01191,
     "end_time": "2025-01-07T14:14:17.295048",
     "exception": false,
     "start_time": "2025-01-07T14:14:17.283138",
     "status": "completed"
    },
    "tags": []
   },
   "outputs": [],
   "source": [
    "#q0.hint()\n",
    "#q0.solution()"
   ]
  },
  {
   "cell_type": "markdown",
   "id": "cb9eb618",
   "metadata": {
    "papermill": {
     "duration": 0.005168,
     "end_time": "2025-01-07T14:14:17.306002",
     "exception": false,
     "start_time": "2025-01-07T14:14:17.300834",
     "status": "completed"
    },
    "tags": []
   },
   "source": [
    "The upcoming questions work the same way. The only thing that will change are the question numbers. For the next question, you'll call `q1.check()`, `q1.hint()`, `q1.solution()`, for question 2, you'll call `q2.check()`, and so on."
   ]
  },
  {
   "cell_type": "markdown",
   "id": "aae4cff4",
   "metadata": {
    "papermill": {
     "duration": 0.005133,
     "end_time": "2025-01-07T14:14:17.316485",
     "exception": false,
     "start_time": "2025-01-07T14:14:17.311352",
     "status": "completed"
    },
    "tags": []
   },
   "source": [
    "<hr/>\n",
    "\n",
    "# 1.\n",
    "\n",
    "Complete the code below. In case it's helpful, here is the table of available arithmetic operations:\n",
    "\n",
    "\n",
    "\n",
    "| Operator     | Name           | Description                                            |\n",
    "|--------------|----------------|--------------------------------------------------------|\n",
    "| ``a + b``    | Addition       | Sum of ``a`` and ``b``                                 |\n",
    "| ``a - b``    | Subtraction    | Difference of ``a`` and ``b``                          |\n",
    "| ``a * b``    | Multiplication | Product of ``a`` and ``b``                             |\n",
    "| ``a / b``    | True division  | Quotient of ``a`` and ``b``                            |\n",
    "| ``a // b``   | Floor division | Quotient of ``a`` and ``b``, removing fractional parts |\n",
    "| ``a % b``    | Modulus        | Integer remainder after division of ``a`` by ``b``     |\n",
    "| ``a ** b``   | Exponentiation | ``a`` raised to the power of ``b``                     |\n",
    "| ``-a``       | Negation       | The negative of ``a``                                  |\n",
    "\n",
    "<span style=\"display:none\"></span>\n"
   ]
  },
  {
   "cell_type": "code",
   "execution_count": 5,
   "id": "ce6659c7",
   "metadata": {
    "execution": {
     "iopub.execute_input": "2025-01-07T14:14:17.329004Z",
     "iopub.status.busy": "2025-01-07T14:14:17.328632Z",
     "iopub.status.idle": "2025-01-07T14:14:17.336472Z",
     "shell.execute_reply": "2025-01-07T14:14:17.335459Z"
    },
    "papermill": {
     "duration": 0.015741,
     "end_time": "2025-01-07T14:14:17.337915",
     "exception": false,
     "start_time": "2025-01-07T14:14:17.322174",
     "status": "completed"
    },
    "tags": []
   },
   "outputs": [
    {
     "data": {
      "application/javascript": [
       "parent.postMessage({\"jupyterEvent\": \"custom.exercise_interaction\", \"data\": {\"outcomeType\": 1, \"valueTowardsCompletion\": 0.25, \"interactionType\": 1, \"questionType\": 1, \"questionId\": \"1_CircleArea\", \"learnToolsVersion\": \"0.3.4\", \"failureMessage\": \"\", \"exceptionClass\": \"\", \"trace\": \"\"}}, \"*\")"
      ],
      "text/plain": [
       "<IPython.core.display.Javascript object>"
      ]
     },
     "metadata": {},
     "output_type": "display_data"
    },
    {
     "data": {
      "text/markdown": [
       "<span style=\"color:#33cc33\">Correct</span>"
      ],
      "text/plain": [
       "Correct"
      ]
     },
     "metadata": {},
     "output_type": "display_data"
    }
   ],
   "source": [
    "pi = 3.14159 # approximate\n",
    "diameter = 3\n",
    "\n",
    "# Create a variable called 'radius' equal to half the diameter\n",
    "radius = diameter/2\n",
    "\n",
    "# Create a variable called 'area', using the formula for the area of a circle: pi times the radius squared\n",
    "area = pi * radius**2\n",
    "\n",
    "# Check your answer\n",
    "q1.check()"
   ]
  },
  {
   "cell_type": "code",
   "execution_count": 6,
   "id": "ec1fb76c",
   "metadata": {
    "execution": {
     "iopub.execute_input": "2025-01-07T14:14:17.350698Z",
     "iopub.status.busy": "2025-01-07T14:14:17.350302Z",
     "iopub.status.idle": "2025-01-07T14:14:17.354047Z",
     "shell.execute_reply": "2025-01-07T14:14:17.353242Z"
    },
    "papermill": {
     "duration": 0.01193,
     "end_time": "2025-01-07T14:14:17.355642",
     "exception": false,
     "start_time": "2025-01-07T14:14:17.343712",
     "status": "completed"
    },
    "tags": []
   },
   "outputs": [],
   "source": [
    "# Uncomment and run the lines below if you need help.\n",
    "#q1.hint()\n",
    "#q1.solution()"
   ]
  },
  {
   "cell_type": "markdown",
   "id": "3024d81a",
   "metadata": {
    "papermill": {
     "duration": 0.005476,
     "end_time": "2025-01-07T14:14:17.367050",
     "exception": false,
     "start_time": "2025-01-07T14:14:17.361574",
     "status": "completed"
    },
    "tags": []
   },
   "source": [
    "<hr/>\n",
    "\n",
    "# 2.\n",
    "\n",
    "Add code to the following cell to swap variables `a` and `b` (so that `a` refers to the object previously referred to by `b` and vice versa)."
   ]
  },
  {
   "cell_type": "code",
   "execution_count": 7,
   "id": "b90636f6",
   "metadata": {
    "execution": {
     "iopub.execute_input": "2025-01-07T14:14:17.380107Z",
     "iopub.status.busy": "2025-01-07T14:14:17.379708Z",
     "iopub.status.idle": "2025-01-07T14:14:17.387787Z",
     "shell.execute_reply": "2025-01-07T14:14:17.386807Z"
    },
    "papermill": {
     "duration": 0.016693,
     "end_time": "2025-01-07T14:14:17.389443",
     "exception": false,
     "start_time": "2025-01-07T14:14:17.372750",
     "status": "completed"
    },
    "tags": []
   },
   "outputs": [
    {
     "data": {
      "application/javascript": [
       "parent.postMessage({\"jupyterEvent\": \"custom.exercise_interaction\", \"data\": {\"outcomeType\": 1, \"valueTowardsCompletion\": 0.25, \"interactionType\": 1, \"questionType\": 2, \"questionId\": \"2_VariableSwap\", \"learnToolsVersion\": \"0.3.4\", \"failureMessage\": \"\", \"exceptionClass\": \"\", \"trace\": \"\"}}, \"*\")"
      ],
      "text/plain": [
       "<IPython.core.display.Javascript object>"
      ]
     },
     "metadata": {},
     "output_type": "display_data"
    },
    {
     "data": {
      "text/markdown": [
       "<span style=\"color:#33cc33\">Correct:</span> \n",
       "\n",
       "The most straightforward solution is to use a third variable to temporarily store one of the old values. e.g.:\n",
       "\n",
       "    tmp = a\n",
       "    a = b\n",
       "    b = tmp\n",
       "\n",
       "If you've read lots of Python code, you might have seen the following trick to swap two variables in one line:\n",
       "\n",
       "    a, b = b, a\n",
       "\n",
       "We'll demystify this bit of Python magic later when we talk about *tuples*."
      ],
      "text/plain": [
       "Correct: \n",
       "\n",
       "The most straightforward solution is to use a third variable to temporarily store one of the old values. e.g.:\n",
       "\n",
       "    tmp = a\n",
       "    a = b\n",
       "    b = tmp\n",
       "\n",
       "If you've read lots of Python code, you might have seen the following trick to swap two variables in one line:\n",
       "\n",
       "    a, b = b, a\n",
       "\n",
       "We'll demystify this bit of Python magic later when we talk about *tuples*."
      ]
     },
     "metadata": {},
     "output_type": "display_data"
    }
   ],
   "source": [
    "########### Setup code - don't touch this part ######################\n",
    "# If you're curious, these are examples of lists. We'll talk about \n",
    "# them in depth a few lessons from now. For now, just know that they're\n",
    "# yet another type of Python object, like int or float.\n",
    "a = [1, 2, 3]\n",
    "b = [3, 2, 1]\n",
    "q2.store_original_ids()\n",
    "######################################################################\n",
    "\n",
    "# Your code goes here. Swap the values to which a and b refer.\n",
    "# If you get stuck, you can always uncomment one or both of the lines in\n",
    "# the next cell for a hint, or to peek at the solution.\n",
    "c = a\n",
    "a = b\n",
    "b = c\n",
    "\n",
    "######################################################################\n",
    "\n",
    "# Check your answer\n",
    "q2.check()"
   ]
  },
  {
   "cell_type": "code",
   "execution_count": 8,
   "id": "6f9e1255",
   "metadata": {
    "execution": {
     "iopub.execute_input": "2025-01-07T14:14:17.402841Z",
     "iopub.status.busy": "2025-01-07T14:14:17.402508Z",
     "iopub.status.idle": "2025-01-07T14:14:17.406320Z",
     "shell.execute_reply": "2025-01-07T14:14:17.405358Z"
    },
    "papermill": {
     "duration": 0.012377,
     "end_time": "2025-01-07T14:14:17.408014",
     "exception": false,
     "start_time": "2025-01-07T14:14:17.395637",
     "status": "completed"
    },
    "tags": []
   },
   "outputs": [],
   "source": [
    "#q2.hint()"
   ]
  },
  {
   "cell_type": "code",
   "execution_count": 9,
   "id": "9bced08f",
   "metadata": {
    "execution": {
     "iopub.execute_input": "2025-01-07T14:14:17.421537Z",
     "iopub.status.busy": "2025-01-07T14:14:17.421208Z",
     "iopub.status.idle": "2025-01-07T14:14:17.424763Z",
     "shell.execute_reply": "2025-01-07T14:14:17.423954Z"
    },
    "papermill": {
     "duration": 0.011868,
     "end_time": "2025-01-07T14:14:17.426246",
     "exception": false,
     "start_time": "2025-01-07T14:14:17.414378",
     "status": "completed"
    },
    "tags": []
   },
   "outputs": [],
   "source": [
    "#q2.solution()"
   ]
  },
  {
   "cell_type": "markdown",
   "id": "6b0aa01b",
   "metadata": {
    "papermill": {
     "duration": 0.005874,
     "end_time": "2025-01-07T14:14:17.438632",
     "exception": false,
     "start_time": "2025-01-07T14:14:17.432758",
     "status": "completed"
    },
    "tags": []
   },
   "source": [
    "<hr/>\n",
    "\n",
    "# 3a.\n",
    "\n",
    "Add parentheses to the following expression so that it evaluates to 1."
   ]
  },
  {
   "cell_type": "code",
   "execution_count": 10,
   "id": "f79fc672",
   "metadata": {
    "execution": {
     "iopub.execute_input": "2025-01-07T14:14:17.451528Z",
     "iopub.status.busy": "2025-01-07T14:14:17.451190Z",
     "iopub.status.idle": "2025-01-07T14:14:17.456259Z",
     "shell.execute_reply": "2025-01-07T14:14:17.455477Z"
    },
    "papermill": {
     "duration": 0.013052,
     "end_time": "2025-01-07T14:14:17.457615",
     "exception": false,
     "start_time": "2025-01-07T14:14:17.444563",
     "status": "completed"
    },
    "tags": []
   },
   "outputs": [
    {
     "data": {
      "text/plain": [
       "1"
      ]
     },
     "execution_count": 10,
     "metadata": {},
     "output_type": "execute_result"
    }
   ],
   "source": [
    "(5 - 3) // 2"
   ]
  },
  {
   "cell_type": "code",
   "execution_count": 11,
   "id": "71a01c6e",
   "metadata": {
    "execution": {
     "iopub.execute_input": "2025-01-07T14:14:17.472474Z",
     "iopub.status.busy": "2025-01-07T14:14:17.471883Z",
     "iopub.status.idle": "2025-01-07T14:14:17.476395Z",
     "shell.execute_reply": "2025-01-07T14:14:17.475316Z"
    },
    "papermill": {
     "duration": 0.014126,
     "end_time": "2025-01-07T14:14:17.478036",
     "exception": false,
     "start_time": "2025-01-07T14:14:17.463910",
     "status": "completed"
    },
    "tags": []
   },
   "outputs": [],
   "source": [
    "#q3.a.hint()"
   ]
  },
  {
   "cell_type": "code",
   "execution_count": 12,
   "id": "1a3704c2",
   "metadata": {
    "execution": {
     "iopub.execute_input": "2025-01-07T14:14:17.492541Z",
     "iopub.status.busy": "2025-01-07T14:14:17.492155Z",
     "iopub.status.idle": "2025-01-07T14:14:17.499251Z",
     "shell.execute_reply": "2025-01-07T14:14:17.498429Z"
    },
    "papermill": {
     "duration": 0.016123,
     "end_time": "2025-01-07T14:14:17.500957",
     "exception": false,
     "start_time": "2025-01-07T14:14:17.484834",
     "status": "completed"
    },
    "tags": []
   },
   "outputs": [
    {
     "data": {
      "application/javascript": [
       "parent.postMessage({\"jupyterEvent\": \"custom.exercise_interaction\", \"data\": {\"interactionType\": 3, \"questionType\": 4, \"questionId\": \"3.1_ArithmeticParensEasy\", \"learnToolsVersion\": \"0.3.4\", \"valueTowardsCompletion\": 0.0, \"failureMessage\": \"\", \"exceptionClass\": \"\", \"trace\": \"\", \"outcomeType\": 4}}, \"*\")"
      ],
      "text/plain": [
       "<IPython.core.display.Javascript object>"
      ]
     },
     "metadata": {},
     "output_type": "display_data"
    },
    {
     "data": {
      "text/markdown": [
       "<span style=\"color:#33cc99\">Solution:</span> \n",
       "```python\n",
       "(5 - 3) // 2\n",
       "```"
      ],
      "text/plain": [
       "Solution: \n",
       "```python\n",
       "(5 - 3) // 2\n",
       "```"
      ]
     },
     "metadata": {},
     "output_type": "display_data"
    }
   ],
   "source": [
    "# Check your answer (Run this code cell to receive credit!)\n",
    "q3.a.solution()"
   ]
  },
  {
   "cell_type": "markdown",
   "id": "058049fd",
   "metadata": {
    "papermill": {
     "duration": 0.00631,
     "end_time": "2025-01-07T14:14:17.514091",
     "exception": false,
     "start_time": "2025-01-07T14:14:17.507781",
     "status": "completed"
    },
    "tags": []
   },
   "source": [
    "# 3b.  <span title=\"A bit spicy\" style=\"color: darkgreen \">🌶️</span>\n",
    "\n",
    "<small>Questions, like this one, marked a spicy pepper are a bit harder.</small>\n",
    "\n",
    "Add parentheses to the following expression so that it evaluates to 0."
   ]
  },
  {
   "cell_type": "code",
   "execution_count": 13,
   "id": "71ed2d46",
   "metadata": {
    "execution": {
     "iopub.execute_input": "2025-01-07T14:14:17.528527Z",
     "iopub.status.busy": "2025-01-07T14:14:17.528128Z",
     "iopub.status.idle": "2025-01-07T14:14:17.533855Z",
     "shell.execute_reply": "2025-01-07T14:14:17.532897Z"
    },
    "papermill": {
     "duration": 0.014642,
     "end_time": "2025-01-07T14:14:17.535372",
     "exception": false,
     "start_time": "2025-01-07T14:14:17.520730",
     "status": "completed"
    },
    "tags": []
   },
   "outputs": [
    {
     "data": {
      "text/plain": [
       "0"
      ]
     },
     "execution_count": 13,
     "metadata": {},
     "output_type": "execute_result"
    }
   ],
   "source": [
    "(8 - 3) * (2 - (1 + 1))"
   ]
  },
  {
   "cell_type": "code",
   "execution_count": 14,
   "id": "abfbdbf6",
   "metadata": {
    "execution": {
     "iopub.execute_input": "2025-01-07T14:14:17.550483Z",
     "iopub.status.busy": "2025-01-07T14:14:17.550111Z",
     "iopub.status.idle": "2025-01-07T14:14:17.557234Z",
     "shell.execute_reply": "2025-01-07T14:14:17.556270Z"
    },
    "papermill": {
     "duration": 0.016399,
     "end_time": "2025-01-07T14:14:17.558841",
     "exception": false,
     "start_time": "2025-01-07T14:14:17.542442",
     "status": "completed"
    },
    "tags": []
   },
   "outputs": [
    {
     "data": {
      "application/javascript": [
       "parent.postMessage({\"jupyterEvent\": \"custom.exercise_interaction\", \"data\": {\"interactionType\": 2, \"questionType\": 4, \"questionId\": \"3.2_ArithmeticParensHard\", \"learnToolsVersion\": \"0.3.4\", \"valueTowardsCompletion\": 0.0, \"failureMessage\": \"\", \"exceptionClass\": \"\", \"trace\": \"\", \"outcomeType\": 4}}, \"*\")"
      ],
      "text/plain": [
       "<IPython.core.display.Javascript object>"
      ]
     },
     "metadata": {},
     "output_type": "display_data"
    },
    {
     "data": {
      "text/markdown": [
       "<span style=\"color:#3366cc\">Hint:</span> You may need to use several pairs of parentheses."
      ],
      "text/plain": [
       "Hint: You may need to use several pairs of parentheses."
      ]
     },
     "metadata": {},
     "output_type": "display_data"
    }
   ],
   "source": [
    "q3.b.hint()"
   ]
  },
  {
   "cell_type": "code",
   "execution_count": 15,
   "id": "63ce559d",
   "metadata": {
    "execution": {
     "iopub.execute_input": "2025-01-07T14:14:17.574015Z",
     "iopub.status.busy": "2025-01-07T14:14:17.573642Z",
     "iopub.status.idle": "2025-01-07T14:14:17.580426Z",
     "shell.execute_reply": "2025-01-07T14:14:17.579487Z"
    },
    "papermill": {
     "duration": 0.01617,
     "end_time": "2025-01-07T14:14:17.582069",
     "exception": false,
     "start_time": "2025-01-07T14:14:17.565899",
     "status": "completed"
    },
    "tags": []
   },
   "outputs": [
    {
     "data": {
      "application/javascript": [
       "parent.postMessage({\"jupyterEvent\": \"custom.exercise_interaction\", \"data\": {\"interactionType\": 3, \"questionType\": 4, \"questionId\": \"3.2_ArithmeticParensHard\", \"learnToolsVersion\": \"0.3.4\", \"valueTowardsCompletion\": 0.0, \"failureMessage\": \"\", \"exceptionClass\": \"\", \"trace\": \"\", \"outcomeType\": 4}}, \"*\")"
      ],
      "text/plain": [
       "<IPython.core.display.Javascript object>"
      ]
     },
     "metadata": {},
     "output_type": "display_data"
    },
    {
     "data": {
      "text/markdown": [
       "<span style=\"color:#33cc99\">Solution:</span> `(8 - 3) * (2 - (1 + 1))` is one solution. There may be others."
      ],
      "text/plain": [
       "Solution: `(8 - 3) * (2 - (1 + 1))` is one solution. There may be others."
      ]
     },
     "metadata": {},
     "output_type": "display_data"
    }
   ],
   "source": [
    "# Check your answer (Run this code cell to receive credit!)\n",
    "q3.b.solution()"
   ]
  },
  {
   "cell_type": "markdown",
   "id": "f461d9b3",
   "metadata": {
    "papermill": {
     "duration": 0.006864,
     "end_time": "2025-01-07T14:14:17.596181",
     "exception": false,
     "start_time": "2025-01-07T14:14:17.589317",
     "status": "completed"
    },
    "tags": []
   },
   "source": [
    "<hr/>\n",
    "\n",
    "# 4. \n",
    "Alice, Bob and Carol have agreed to pool their Halloween candy and split it evenly among themselves.\n",
    "For the sake of their friendship, any candies left over will be smashed. For example, if they collectively\n",
    "bring home 91 candies, they'll take 30 each and smash 1.\n",
    "\n",
    "Write an arithmetic expression below to calculate how many candies they must smash for a given haul."
   ]
  },
  {
   "cell_type": "code",
   "execution_count": 16,
   "id": "0d80c487",
   "metadata": {
    "execution": {
     "iopub.execute_input": "2025-01-07T14:14:17.611620Z",
     "iopub.status.busy": "2025-01-07T14:14:17.611245Z",
     "iopub.status.idle": "2025-01-07T14:14:17.618469Z",
     "shell.execute_reply": "2025-01-07T14:14:17.617557Z"
    },
    "papermill": {
     "duration": 0.016826,
     "end_time": "2025-01-07T14:14:17.620073",
     "exception": false,
     "start_time": "2025-01-07T14:14:17.603247",
     "status": "completed"
    },
    "tags": []
   },
   "outputs": [
    {
     "data": {
      "application/javascript": [
       "parent.postMessage({\"jupyterEvent\": \"custom.exercise_interaction\", \"data\": {\"outcomeType\": 1, \"valueTowardsCompletion\": 0.25, \"interactionType\": 1, \"questionType\": 1, \"questionId\": \"4_CandySplitting\", \"learnToolsVersion\": \"0.3.4\", \"failureMessage\": \"\", \"exceptionClass\": \"\", \"trace\": \"\"}}, \"*\")"
      ],
      "text/plain": [
       "<IPython.core.display.Javascript object>"
      ]
     },
     "metadata": {},
     "output_type": "display_data"
    },
    {
     "data": {
      "text/markdown": [
       "<span style=\"color:#33cc33\">Correct</span>"
      ],
      "text/plain": [
       "Correct"
      ]
     },
     "metadata": {},
     "output_type": "display_data"
    }
   ],
   "source": [
    "# Variables representing the number of candies collected by alice, bob, and carol\n",
    "alice_candies = 121\n",
    "bob_candies = 77\n",
    "carol_candies = 109\n",
    "\n",
    "# Your code goes here! Replace the right-hand side of this assignment with an expression\n",
    "# involving alice_candies, bob_candies, and carol_candies\n",
    "to_smash = (alice_candies + bob_candies + carol_candies)%3\n",
    "\n",
    "# Check your answer\n",
    "q4.check()"
   ]
  },
  {
   "cell_type": "code",
   "execution_count": 17,
   "id": "07a1cf75",
   "metadata": {
    "execution": {
     "iopub.execute_input": "2025-01-07T14:14:17.635744Z",
     "iopub.status.busy": "2025-01-07T14:14:17.635367Z",
     "iopub.status.idle": "2025-01-07T14:14:17.638933Z",
     "shell.execute_reply": "2025-01-07T14:14:17.637999Z"
    },
    "papermill": {
     "duration": 0.013066,
     "end_time": "2025-01-07T14:14:17.640392",
     "exception": false,
     "start_time": "2025-01-07T14:14:17.627326",
     "status": "completed"
    },
    "tags": []
   },
   "outputs": [],
   "source": [
    "#q4.hint()\n",
    "#q4.solution()"
   ]
  },
  {
   "cell_type": "markdown",
   "id": "327449a5",
   "metadata": {
    "papermill": {
     "duration": 0.006818,
     "end_time": "2025-01-07T14:14:17.654580",
     "exception": false,
     "start_time": "2025-01-07T14:14:17.647762",
     "status": "completed"
    },
    "tags": []
   },
   "source": [
    "# Keep Going\n",
    "\n",
    "Next up, you'll **[learn to write new functions and understand functions others write](https://www.kaggle.com/colinmorris/functions-and-getting-help)**. This will make you at least 10 times more productive as a Python programmer. "
   ]
  },
  {
   "cell_type": "markdown",
   "id": "db958f2a",
   "metadata": {
    "papermill": {
     "duration": 0.010607,
     "end_time": "2025-01-07T14:14:17.672350",
     "exception": false,
     "start_time": "2025-01-07T14:14:17.661743",
     "status": "completed"
    },
    "tags": []
   },
   "source": [
    "---\n",
    "\n",
    "\n",
    "\n",
    "\n",
    "*Have questions or comments? Visit the [course discussion forum](https://www.kaggle.com/learn/python/discussion) to chat with other learners.*"
   ]
  },
  {
   "cell_type": "markdown",
   "id": "840ef04c",
   "metadata": {
    "papermill": {
     "duration": 0.007047,
     "end_time": "2025-01-07T14:14:17.688668",
     "exception": false,
     "start_time": "2025-01-07T14:14:17.681621",
     "status": "completed"
    },
    "tags": []
   },
   "source": [
    "**notes**\n",
    "**use a,b = b,a method to swap values among variables**\n"
   ]
  }
 ],
 "metadata": {
  "kaggle": {
   "accelerator": "none",
   "dataSources": [],
   "isGpuEnabled": false,
   "isInternetEnabled": false,
   "language": "python",
   "sourceType": "notebook"
  },
  "kernelspec": {
   "display_name": "Python 3",
   "language": "python",
   "name": "python3"
  },
  "language_info": {
   "codemirror_mode": {
    "name": "ipython",
    "version": 3
   },
   "file_extension": ".py",
   "mimetype": "text/x-python",
   "name": "python",
   "nbconvert_exporter": "python",
   "pygments_lexer": "ipython3",
   "version": "3.10.12"
  },
  "learntools_metadata": {
   "lesson_index": 0,
   "type": "exercise"
  },
  "papermill": {
   "default_parameters": {},
   "duration": 3.687701,
   "end_time": "2025-01-07T14:14:18.214852",
   "environment_variables": {},
   "exception": null,
   "input_path": "__notebook__.ipynb",
   "output_path": "__notebook__.ipynb",
   "parameters": {},
   "start_time": "2025-01-07T14:14:14.527151",
   "version": "2.6.0"
  }
 },
 "nbformat": 4,
 "nbformat_minor": 5
}
